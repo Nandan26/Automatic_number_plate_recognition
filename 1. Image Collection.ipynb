{
 "cells": [
  {
   "cell_type": "markdown",
   "metadata": {},
   "source": [
    "# 1. Import Dependencies"
   ]
  },
  {
   "cell_type": "code",
   "execution_count": 1,
   "metadata": {},
   "outputs": [],
   "source": [
    "# Import opencv\n",
    "import cv2 \n",
    "\n",
    "# Import uuid unique identifier:- to name our images uniquely\n",
    "import uuid\n",
    "\n",
    "# Import Operating System\n",
    "import os\n",
    "\n",
    "# Import time\n",
    "import time"
   ]
  },
  {
   "cell_type": "markdown",
   "metadata": {},
   "source": [
    "we have imported all the libraries"
   ]
  },
  {
   "cell_type": "markdown",
   "metadata": {},
   "source": [
    "# 2. Define Images to Collect"
   ]
  },
  {
   "cell_type": "code",
   "execution_count": 3,
   "metadata": {},
   "outputs": [],
   "source": [
    "labels = ['Allok', 'Notgood', 'ThankYou', 'Peace']\n",
    "#at start we are collecting 10 image for every class\n",
    "number_imgs = 7"
   ]
  },
  {
   "cell_type": "markdown",
   "metadata": {},
   "source": [
    "# 3. Setup Folders "
   ]
  },
  {
   "cell_type": "code",
   "execution_count": 4,
   "metadata": {},
   "outputs": [],
   "source": [
    "IMAGES_PATH = os.path.join('Tensorflow', 'workspace', 'images', 'collectedimages')"
   ]
  },
  {
   "cell_type": "markdown",
   "metadata": {},
   "source": [
    "we will put our file in this folder"
   ]
  },
  {
   "cell_type": "code",
   "execution_count": 5,
   "metadata": {},
   "outputs": [
    {
     "data": {
      "text/plain": [
       "'Tensorflow\\\\workspace\\\\images\\\\collectedimages'"
      ]
     },
     "execution_count": 5,
     "metadata": {},
     "output_type": "execute_result"
    }
   ],
   "source": [
    "IMAGES_PATH"
   ]
  },
  {
   "cell_type": "code",
   "execution_count": 6,
   "metadata": {},
   "outputs": [
    {
     "data": {
      "text/plain": [
       "'nt'"
      ]
     },
     "execution_count": 6,
     "metadata": {},
     "output_type": "execute_result"
    }
   ],
   "source": [
    "os.name"
   ]
  },
  {
   "cell_type": "code",
   "execution_count": 7,
   "metadata": {},
   "outputs": [],
   "source": [
    "if not os.path.exists(IMAGES_PATH): #if this path doesn't exist\n",
    "    if os.name == 'posix': #for linux\n",
    "        !mkdir -p {IMAGES_PATH}\n",
    "    if os.name == 'nt': #for windows\n",
    "         !mkdir {IMAGES_PATH}\n",
    "for label in labels:\n",
    "    path = os.path.join(IMAGES_PATH, label)\n",
    "    if not os.path.exists(path):\n",
    "        !mkdir {path}"
   ]
  },
  {
   "cell_type": "markdown",
   "metadata": {},
   "source": [
    "# 4. Capture Images"
   ]
  },
  {
   "cell_type": "code",
   "execution_count": 8,
   "metadata": {},
   "outputs": [
    {
     "name": "stdout",
     "output_type": "stream",
     "text": [
      "Collecting images Allok\n",
      "Collecting image 0\n",
      "Collecting image 1\n",
      "Collecting image 2\n",
      "Collecting image 3\n",
      "Collecting image 4\n",
      "Collecting image 5\n",
      "Collecting image 6\n",
      "Collecting images Notgood\n",
      "Collecting image 0\n",
      "Collecting image 1\n",
      "Collecting image 2\n",
      "Collecting image 3\n",
      "Collecting image 4\n",
      "Collecting image 5\n",
      "Collecting image 6\n",
      "Collecting images ThankYou\n",
      "Collecting image 0\n",
      "Collecting image 1\n",
      "Collecting image 2\n",
      "Collecting image 3\n",
      "Collecting image 4\n",
      "Collecting image 5\n",
      "Collecting image 6\n",
      "Collecting images Peace\n",
      "Collecting image 0\n",
      "Collecting image 1\n",
      "Collecting image 2\n",
      "Collecting image 3\n",
      "Collecting image 4\n",
      "Collecting image 5\n",
      "Collecting image 6\n"
     ]
    }
   ],
   "source": [
    "for label in labels:\n",
    "    cap = cv2.VideoCapture(0) #capture images from webcame\n",
    "    print('Collecting images {}'.format(label))\n",
    "    time.sleep(5)\n",
    "    for imgnum in range(number_imgs):\n",
    "        print('Collecting image {}'.format(imgnum))\n",
    "        ret, frame = cap.read()\n",
    "        imgname = os.path.join(IMAGES_PATH,label,label+'.'+'{}.jpg'.format(str(uuid.uuid1())))\n",
    "        cv2.imwrite(imgname, frame)\n",
    "        cv2.imshow('frame', frame)\n",
    "        time.sleep(3)\n",
    "\n",
    "        if cv2.waitKey(1) & 0xFF == ord('q'):\n",
    "            break\n",
    "cap.release()\n",
    "cv2.destroyAllWindows()"
   ]
  },
  {
   "cell_type": "markdown",
   "metadata": {},
   "source": [
    "# 5. Image Labelling"
   ]
  },
  {
   "cell_type": "code",
   "execution_count": 9,
   "metadata": {},
   "outputs": [
    {
     "name": "stdout",
     "output_type": "stream",
     "text": [
      "Collecting pyqt5\n",
      "  Downloading PyQt5-5.15.4-cp36.cp37.cp38.cp39-none-win_amd64.whl (6.8 MB)\n",
      "Requirement already satisfied: lxml in c:\\users\\len\\appdata\\local\\programs\\python\\python38\\lib\\site-packages (4.6.2)\n",
      "Collecting lxml\n",
      "  Downloading lxml-4.6.3-cp38-cp38-win_amd64.whl (3.5 MB)\n",
      "Collecting PyQt5-sip<13,>=12.8\n",
      "  Downloading PyQt5_sip-12.8.1-cp38-cp38-win_amd64.whl (63 kB)\n",
      "Collecting PyQt5-Qt5>=5.15\n",
      "  Downloading PyQt5_Qt5-5.15.2-py3-none-win_amd64.whl (50.1 MB)\n",
      "Installing collected packages: PyQt5-sip, PyQt5-Qt5, pyqt5, lxml\n",
      "  Attempting uninstall: lxml\n",
      "    Found existing installation: lxml 4.6.2\n",
      "    Uninstalling lxml-4.6.2:\n",
      "      Successfully uninstalled lxml-4.6.2\n",
      "Successfully installed PyQt5-Qt5-5.15.2 PyQt5-sip-12.8.1 lxml-4.6.3 pyqt5-5.15.4\n"
     ]
    }
   ],
   "source": [
    "!pip install --upgrade pyqt5 lxml"
   ]
  },
  {
   "cell_type": "code",
   "execution_count": 10,
   "metadata": {},
   "outputs": [
    {
     "name": "stdout",
     "output_type": "stream",
     "text": [
      "Package                       Version\n",
      "----------------------------- ------------\n",
      "-pencv-python-headless        4.5.1.48\n",
      "absl-py                       0.10.0\n",
      "apache-beam                   2.28.0\n",
      "appdirs                       1.4.4\n",
      "argon2-cffi                   20.1.0\n",
      "astunparse                    1.6.3\n",
      "async-generator               1.10\n",
      "attrs                         20.3.0\n",
      "audioread                     2.1.9\n",
      "avro-python3                  1.9.2.1\n",
      "backcall                      0.2.0\n",
      "beautifulsoup4                4.9.3\n",
      "bleach                        3.3.0\n",
      "bs4                           0.0.1\n",
      "cachetools                    4.2.1\n",
      "certifi                       2020.12.5\n",
      "cffi                          1.14.5\n",
      "chardet                       4.0.0\n",
      "click                         7.1.2\n",
      "colorama                      0.4.4\n",
      "confuse                       1.4.0\n",
      "contextlib2                   0.6.0.post1\n",
      "crcmod                        1.7\n",
      "creme                         0.6.1\n",
      "cycler                        0.10.0\n",
      "Cython                        0.29.22\n",
      "dataclasses                   0.6\n",
      "decorator                     4.4.2\n",
      "defusedxml                    0.6.0\n",
      "dill                          0.3.1.1\n",
      "distlib                       0.3.1\n",
      "dm-tree                       0.1.5\n",
      "docopt                        0.6.2\n",
      "entrypoints                   0.3\n",
      "et-xmlfile                    1.0.1\n",
      "fastavro                      1.3.3\n",
      "filelock                      3.0.12\n",
      "flasgger                      0.9.5\n",
      "Flask                         1.1.2\n",
      "Flask-Cors                    3.0.10\n",
      "Flask-SQLAlchemy              2.4.4\n",
      "flatbuffers                   1.12\n",
      "future                        0.18.2\n",
      "gast                          0.3.3\n",
      "gin-config                    0.4.0\n",
      "google-api-core               1.26.1\n",
      "google-api-python-client      2.0.2\n",
      "google-auth                   1.26.1\n",
      "google-auth-httplib2          0.1.0\n",
      "google-auth-oauthlib          0.4.2\n",
      "google-cloud-bigquery         2.11.0\n",
      "google-cloud-core             1.6.0\n",
      "google-crc32c                 1.1.2\n",
      "google-pasta                  0.2.0\n",
      "google-resumable-media        1.2.0\n",
      "googleapis-common-protos      1.53.0\n",
      "greenlet                      1.0.0\n",
      "grpcio                        1.32.0\n",
      "h5py                          2.10.0\n",
      "hdfs                          2.6.0\n",
      "html5lib                      1.1\n",
      "htmlmin                       0.1.12\n",
      "httplib2                      0.17.4\n",
      "idna                          2.10\n",
      "ImageHash                     4.2.0\n",
      "imbalanced-learn              0.8.0\n",
      "imblearn                      0.0\n",
      "importlib-resources           5.1.2\n",
      "ipykernel                     5.4.3\n",
      "ipython                       7.20.0\n",
      "ipython-genutils              0.2.0\n",
      "ipywidgets                    7.6.3\n",
      "itsdangerous                  1.1.0\n",
      "jedi                          0.18.0\n",
      "Jinja2                        2.11.3\n",
      "joblib                        1.0.1\n",
      "jsonschema                    3.2.0\n",
      "jupyter                       1.0.0\n",
      "jupyter-client                6.1.11\n",
      "jupyter-console               6.2.0\n",
      "jupyter-core                  4.7.1\n",
      "jupyterlab-pygments           0.1.2\n",
      "jupyterlab-widgets            1.0.0\n",
      "kaggle                        1.5.12\n",
      "Keras                         2.4.3\n",
      "Keras-Preprocessing           1.1.2\n",
      "keras-tuner                   1.0.2\n",
      "kiwisolver                    1.3.1\n",
      "librosa                       0.8.0\n",
      "llvmlite                      0.36.0\n",
      "lux                           0.8.2\n",
      "lvis                          0.5.3\n",
      "lxml                          4.6.3\n",
      "Markdown                      3.3.3\n",
      "MarkupSafe                    1.1.1\n",
      "matplotlib                    3.3.4\n",
      "missingno                     0.4.2\n",
      "mistune                       0.8.4\n",
      "mlens                         0.2.3\n",
      "mmh3                          2.5.1\n",
      "mock                          2.0.0\n",
      "mtcnn                         0.1.0\n",
      "multidict                     5.1.0\n",
      "nbclient                      0.5.2\n",
      "nbconvert                     6.0.7\n",
      "nbformat                      5.1.2\n",
      "nest-asyncio                  1.5.1\n",
      "networkx                      2.5.1\n",
      "nltk                          3.5\n",
      "notebook                      6.2.0\n",
      "numba                         0.53.1\n",
      "numpy                         1.19.5\n",
      "oauth2client                  4.1.3\n",
      "oauthlib                      3.1.0\n",
      "object-detection              0.1\n",
      "opencv-python                 4.5.1.48\n",
      "openpyxl                      3.0.7\n",
      "opt-einsum                    3.3.0\n",
      "packaging                     20.9\n",
      "pandas                        1.2.2\n",
      "pandas-datareader             0.9.0\n",
      "pandas-profiling              2.11.0\n",
      "pandocfilters                 1.4.3\n",
      "parso                         0.8.1\n",
      "pbr                           5.5.1\n",
      "phik                          0.11.2\n",
      "pickleshare                   0.7.5\n",
      "Pillow                        8.1.0\n",
      "pip                           21.0.1\n",
      "pooch                         1.3.0\n",
      "prometheus-client             0.9.0\n",
      "promise                       2.3\n",
      "prompt-toolkit                3.0.16\n",
      "proto-plus                    1.17.0\n",
      "protobuf                      3.14.0\n",
      "psutil                        5.8.0\n",
      "psycopg2                      2.8.6\n",
      "pulsar                        2.0.2\n",
      "pulsar-odm                    0.7.0\n",
      "py-cpuinfo                    7.0.0\n",
      "pyarrow                       2.0.0\n",
      "pyasn1                        0.4.8\n",
      "pyasn1-modules                0.2.8\n",
      "pycocotools                   2.0\n",
      "pycparser                     2.20\n",
      "pydot                         1.4.2\n",
      "Pygments                      2.8.0\n",
      "PyJWT                         2.0.1\n",
      "pymongo                       3.11.3\n",
      "pyparsing                     2.4.7\n",
      "PyQt5                         5.15.4\n",
      "PyQt5-Qt5                     5.15.2\n",
      "PyQt5-sip                     12.8.1\n",
      "pyrsistent                    0.17.3\n",
      "python-dateutil               2.8.1\n",
      "python-slugify                4.0.1\n",
      "pytz                          2021.1\n",
      "PyWavelets                    1.1.1\n",
      "pywin32                       300\n",
      "pywinpty                      0.5.7\n",
      "PyYAML                        5.4.1\n",
      "pyzmq                         22.0.3\n",
      "qtconsole                     5.0.2\n",
      "QtPy                          1.9.0\n",
      "regex                         2020.11.13\n",
      "requests                      2.25.1\n",
      "requests-oauthlib             1.3.0\n",
      "resampy                       0.2.2\n",
      "rsa                           4.7.1\n",
      "scikit-learn                  0.24.1\n",
      "scipy                         1.6.0\n",
      "seaborn                       0.11.1\n",
      "Send2Trash                    1.5.0\n",
      "sentencepiece                 0.1.95\n",
      "seqeval                       1.2.2\n",
      "setuptools                    49.2.1\n",
      "six                           1.15.0\n",
      "SoundFile                     0.10.3.post1\n",
      "soupsieve                     2.2.1\n",
      "SQLAlchemy                    1.4.0\n",
      "tabulate                      0.8.7\n",
      "tangled-up-in-unicode         0.0.7\n",
      "tensorboard                   2.4.1\n",
      "tensorboard-plugin-wit        1.8.0\n",
      "tensorflow                    2.4.1\n",
      "tensorflow-addons             0.12.1\n",
      "tensorflow-datasets           4.2.0\n",
      "tensorflow-estimator          2.4.0\n",
      "tensorflow-hub                0.11.0\n",
      "tensorflow-metadata           0.28.0\n",
      "tensorflow-model-optimization 0.5.0\n",
      "termcolor                     1.1.0\n",
      "terminado                     0.9.2\n",
      "terminaltables                3.1.0\n",
      "testpath                      0.4.4\n",
      "text-unidecode                1.3\n",
      "tf-models-official            2.4.0\n",
      "tf-slim                       1.1.0\n",
      "threadpoolctl                 2.1.0\n",
      "tiingo                        0.13.0\n",
      "tornado                       6.1\n",
      "tqdm                          4.56.2\n",
      "traitlets                     5.0.5\n",
      "typeguard                     2.11.1\n",
      "typing-extensions             3.7.4.3\n",
      "uritemplate                   3.0.1\n",
      "urllib3                       1.26.3\n",
      "virtualenv                    20.4.2\n",
      "visions                       0.6.0\n",
      "wcwidth                       0.2.5\n",
      "webencodings                  0.5.1\n",
      "Werkzeug                      1.0.1\n",
      "wheel                         0.36.2\n",
      "widgetsnbextension            3.5.1\n",
      "wrapt                         1.12.1\n",
      "xgboost                       1.3.3\n",
      "xlrd                          2.0.1\n",
      "yellowbrick                   1.3.post1\n"
     ]
    }
   ],
   "source": [
    "!pip list"
   ]
  },
  {
   "cell_type": "code",
   "execution_count": 11,
   "metadata": {},
   "outputs": [],
   "source": [
    "LABELIMG_PATH = os.path.join('Tensorflow', 'labelimg')"
   ]
  },
  {
   "cell_type": "code",
   "execution_count": 12,
   "metadata": {},
   "outputs": [
    {
     "name": "stderr",
     "output_type": "stream",
     "text": [
      "Cloning into 'Tensorflow\\labelimg'...\n"
     ]
    }
   ],
   "source": [
    "if not os.path.exists(LABELIMG_PATH):\n",
    "    !mkdir {LABELIMG_PATH}\n",
    "    !git clone https://github.com/tzutalin/labelImg {LABELIMG_PATH}"
   ]
  },
  {
   "cell_type": "code",
   "execution_count": 13,
   "metadata": {},
   "outputs": [],
   "source": [
    "#install label image\n",
    "if os.name =='nt':\n",
    "    !cd {LABELIMG_PATH} && pyrcc5 -o libs/resources.py resources.qrc"
   ]
  },
  {
   "cell_type": "code",
   "execution_count": 15,
   "metadata": {},
   "outputs": [
    {
     "name": "stdout",
     "output_type": "stream",
     "text": [
      "Image:D:\\My files\\TFODCourse\\Tensorflow\\workspace\\images\\collectedimages\\Peace\\Peace.dad4c98a-a67a-11eb-969d-342eb7ee111d.jpg -> Annotation:D:/My files/TFODCourse/Tensorflow/workspace/images/collectedimages/Peace/Peace.dad4c98a-a67a-11eb-969d-342eb7ee111d.xml\n",
      "Image:D:\\My files\\TFODCourse\\Tensorflow\\workspace\\images\\collectedimages\\Peace\\Peace.de6fb4bc-a67a-11eb-a09b-342eb7ee111d.jpg -> Annotation:D:/My files/TFODCourse/Tensorflow/workspace/images/collectedimages/Peace/Peace.de6fb4bc-a67a-11eb-a09b-342eb7ee111d.xml\n",
      "Image:D:\\My files\\TFODCourse\\Tensorflow\\workspace\\images\\collectedimages\\Peace\\Peace.e3d96f68-a67a-11eb-9499-342eb7ee111d.jpg -> Annotation:D:/My files/TFODCourse/Tensorflow/workspace/images/collectedimages/Peace/Peace.e3d96f68-a67a-11eb-9499-342eb7ee111d.xml\n",
      "Image:D:\\My files\\TFODCourse\\Tensorflow\\workspace\\images\\collectedimages\\Peace\\Peace.e03f010f-a67a-11eb-9e02-342eb7ee111d.jpg -> Annotation:D:/My files/TFODCourse/Tensorflow/workspace/images/collectedimages/Peace/Peace.e03f010f-a67a-11eb-9e02-342eb7ee111d.xml\n",
      "Image:D:\\My files\\TFODCourse\\Tensorflow\\workspace\\images\\collectedimages\\Peace\\Peace.e5a9f4ab-a67a-11eb-97f0-342eb7ee111d.jpg -> Annotation:D:/My files/TFODCourse/Tensorflow/workspace/images/collectedimages/Peace/Peace.e5a9f4ab-a67a-11eb-97f0-342eb7ee111d.xml\n",
      "Image:D:\\My files\\TFODCourse\\Tensorflow\\workspace\\images\\collectedimages\\ThankYou\\ThankYou.ca9d02ca-a67a-11eb-ab39-342eb7ee111d.jpg -> Annotation:D:/My files/TFODCourse/Tensorflow/workspace/images/collectedimages/ThankYou/ThankYou.ca9d02ca-a67a-11eb-ab39-342eb7ee111d.xml\n",
      "Image:D:\\My files\\TFODCourse\\Tensorflow\\workspace\\images\\collectedimages\\ThankYou\\ThankYou.ce39dc24-a67a-11eb-a8d5-342eb7ee111d.jpg -> Annotation:D:/My files/TFODCourse/Tensorflow/workspace/images/collectedimages/ThankYou/ThankYou.ce39dc24-a67a-11eb-a8d5-342eb7ee111d.xml\n",
      "Image:D:\\My files\\TFODCourse\\Tensorflow\\workspace\\images\\collectedimages\\ThankYou\\ThankYou.d1d62423-a67a-11eb-8da1-342eb7ee111d.jpg -> Annotation:D:/My files/TFODCourse/Tensorflow/workspace/images/collectedimages/ThankYou/ThankYou.d1d62423-a67a-11eb-8da1-342eb7ee111d.xml\n",
      "Image:D:\\My files\\TFODCourse\\Tensorflow\\workspace\\images\\collectedimages\\ThankYou\\ThankYou.d3a5c25c-a67a-11eb-9591-342eb7ee111d.jpg -> Annotation:D:/My files/TFODCourse/Tensorflow/workspace/images/collectedimages/ThankYou/ThankYou.d3a5c25c-a67a-11eb-9591-342eb7ee111d.xml\n",
      "Image:D:\\My files\\TFODCourse\\Tensorflow\\workspace\\images\\collectedimages\\ThankYou\\ThankYou.d5735113-a67a-11eb-a7f1-342eb7ee111d.jpg -> Annotation:D:/My files/TFODCourse/Tensorflow/workspace/images/collectedimages/ThankYou/ThankYou.d5735113-a67a-11eb-a7f1-342eb7ee111d.xml\n"
     ]
    }
   ],
   "source": [
    "!cd {LABELIMG_PATH} && python labelImg.py"
   ]
  },
  {
   "cell_type": "markdown",
   "metadata": {},
   "source": [
    "# 6. Move them into a Training and Testing Partition"
   ]
  },
  {
   "cell_type": "markdown",
   "metadata": {},
   "source": [
    "# OPTIONAL - 7. Compress them for Colab Training"
   ]
  },
  {
   "cell_type": "code",
   "execution_count": 2,
   "metadata": {},
   "outputs": [],
   "source": [
    "TRAIN_PATH = os.path.join('Tensorflow', 'workspace', 'images', 'train')\n",
    "TEST_PATH = os.path.join('Tensorflow', 'workspace', 'images', 'test')\n",
    "ARCHIVE_PATH = os.path.join('Tensorflow', 'workspace', 'images', 'archive.tar.gz')"
   ]
  },
  {
   "cell_type": "code",
   "execution_count": 3,
   "metadata": {},
   "outputs": [],
   "source": [
    "!tar -czf {ARCHIVE_PATH} {TRAIN_PATH} {TEST_PATH}"
   ]
  },
  {
   "cell_type": "code",
   "execution_count": null,
   "metadata": {},
   "outputs": [],
   "source": []
  }
 ],
 "metadata": {
  "kernelspec": {
   "display_name": "Python 3",
   "language": "python",
   "name": "python3"
  },
  "language_info": {
   "codemirror_mode": {
    "name": "ipython",
    "version": 3
   },
   "file_extension": ".py",
   "mimetype": "text/x-python",
   "name": "python",
   "nbconvert_exporter": "python",
   "pygments_lexer": "ipython3",
   "version": "3.8.7"
  }
 },
 "nbformat": 4,
 "nbformat_minor": 2
}
